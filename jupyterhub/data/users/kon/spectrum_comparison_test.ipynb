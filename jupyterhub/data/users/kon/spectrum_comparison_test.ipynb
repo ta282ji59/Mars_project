{
 "cells": [
  {
   "cell_type": "markdown",
   "metadata": {},
   "source": [
    "* ライブラリ比較関数というスペクトルデータを解析する関数になります。\n",
    "    - 鉱物スペクトルデータを収集したライブラリファイルと調査したい対象スペクトルデータ１つを比較します。\n",
    "    - ライブラリファイルには、約6000のスペクトルデータがあります。\n",
    "    - それぞれ比較し、類似度を算出することで、類似する鉱物を同定します。\n",
    "* 「いじってみて」と記述されている直下のセルをいじってみてください。\n",
    "* 実行は、Shift＋Enter です。\n",
    "* いじってみた後に以下の項目それぞれの感想（評価）をください。なんでも大丈夫です。お願いします。\n",
    "    - 良いところ\n",
    "    - 悪いところ（良くないところ）\n",
    "    - もう少しなところ（あれば良いと思うところ）\n",
    "    - 他のアイデア（あればでいいです）"
   ]
  },
  {
   "cell_type": "markdown",
   "metadata": {},
   "source": [
    "## ライブラリ比較関数"
   ]
  },
  {
   "cell_type": "code",
   "execution_count": 12,
   "metadata": {},
   "outputs": [],
   "source": [
    "import pandas as pd\n",
    "import importlib\n",
    "import libcomp as lc\n",
    "importlib.reload(lc)\n",
    "\n",
    "# ライブラリファイル指定\n",
    "library_file = 'RelabDatabase2022Dec31_mini/Library_Mineral_BD-VNIR.csv'\n",
    "# カタログファイル指定\n",
    "sample_catalogue_file = 'RelabDatabase2022Dec31_mini/catalogues/Sample_Catalogue.xlsx'\n",
    "# 対象スペクトルファイル指定\n",
    "target_spectrum_file = './data/frt00003621_07_if166l_E_-97.57339 N_24.96872.csv'"
   ]
  },
  {
   "cell_type": "markdown",
   "metadata": {},
   "source": [
    "* いじってみて↓"
   ]
  },
  {
   "cell_type": "code",
   "execution_count": 3,
   "metadata": {},
   "outputs": [],
   "source": [
    "''' 類似度算出に使用する各タイプ指定\n",
    "        以下のいずれかのタイプを選択する。\n",
    "            interp_type :   liner, sp\n",
    "            scaling_type:   norm, st\n",
    "            pcc         :   pcc, cos, edis     \n",
    "        各タイプの説明\n",
    "            interp_type     >> liner(線形補間), sp(スプライン補間)\n",
    "            scaling_type    >> norm(正規化), st(標準化)\n",
    "            pcc             >> pcc(ピアソンの相関係数), cos(コサイン類似度), edis(ユークリッド距離)\n",
    "'''\n",
    "interp_type, scaling_type, sim_type = 'liner', 'st', 'pcc'"
   ]
  },
  {
   "cell_type": "code",
   "execution_count": 17,
   "metadata": {},
   "outputs": [
    {
     "ename": "NameError",
     "evalue": "name 'lc' is not defined",
     "output_type": "error",
     "traceback": [
      "\u001b[0;31m---------------------------------------------------------------------------\u001b[0m",
      "\u001b[0;31mNameError\u001b[0m                                 Traceback (most recent call last)",
      "Cell \u001b[0;32mIn[17], line 1\u001b[0m\n\u001b[0;32m----> 1\u001b[0m comparer \u001b[38;5;241m=\u001b[39m \u001b[43mlc\u001b[49m\u001b[38;5;241m.\u001b[39mLibraryComparison(library_file, sample_catalogue_file, target_spectrum_file)  \u001b[38;5;66;03m# インスタンス作成\u001b[39;00m\n",
      "\u001b[0;31mNameError\u001b[0m: name 'lc' is not defined"
     ]
    }
   ],
   "source": [
    "comparer = lc.LibraryComparison(library_file, sample_catalogue_file, target_spectrum_file)  # インスタンス作成"
   ]
  },
  {
   "cell_type": "markdown",
   "metadata": {},
   "source": [
    "### 類似度判定ステップ\n",
    "* いじってみて↓"
   ]
  },
  {
   "cell_type": "code",
   "execution_count": 13,
   "metadata": {},
   "outputs": [
    {
     "data": {
      "text/plain": [
       "' 対象とする波長範囲（index）を指定\\n        comparer.slice_wav(100, 200)    >> 波長の100〜200を使用する\\n        comparer.slice_wav(100)         >> 波長の100〜を使用する\\n'"
      ]
     },
     "execution_count": 13,
     "metadata": {},
     "output_type": "execute_result"
    }
   ],
   "source": [
    "''' 対象とする波長範囲（index）を指定\n",
    "        comparer.slice_wav(100, 200)    >> 波長の100〜200を使用する\n",
    "        comparer.slice_wav(100)         >> 波長の100〜を使用する\n",
    "'''\n",
    "# comparer.slice_wav(100, 200)  # 対象とする波長範囲（index）"
   ]
  },
  {
   "cell_type": "code",
   "execution_count": 18,
   "metadata": {},
   "outputs": [
    {
     "ename": "NameError",
     "evalue": "name 'comparer' is not defined",
     "output_type": "error",
     "traceback": [
      "\u001b[0;31m---------------------------------------------------------------------------\u001b[0m",
      "\u001b[0;31mNameError\u001b[0m                                 Traceback (most recent call last)",
      "Cell \u001b[0;32mIn[18], line 1\u001b[0m\n\u001b[0;32m----> 1\u001b[0m \u001b[43mcomparer\u001b[49m\u001b[38;5;241m.\u001b[39minterpolate(interp_type)\n\u001b[1;32m      2\u001b[0m comparer\u001b[38;5;241m.\u001b[39mscaling(scaling_type)\n\u001b[1;32m      3\u001b[0m comparer\u001b[38;5;241m.\u001b[39mmeasure_similarity(sim_type)\n",
      "\u001b[0;31mNameError\u001b[0m: name 'comparer' is not defined"
     ]
    }
   ],
   "source": [
    "comparer.interpolate(interp_type)\n",
    "comparer.scaling(scaling_type)\n",
    "comparer.measure_similarity(sim_type)\n",
    "comparer.result()\n",
    "\n",
    "# result.to_excel('libcomp_result.xlsx', index=False)  # excelファイル作成"
   ]
  },
  {
   "cell_type": "markdown",
   "metadata": {},
   "source": [
    "### プロットステップ"
   ]
  },
  {
   "cell_type": "code",
   "execution_count": 15,
   "metadata": {},
   "outputs": [
    {
     "ename": "NameError",
     "evalue": "name 'comparer' is not defined",
     "output_type": "error",
     "traceback": [
      "\u001b[0;31m---------------------------------------------------------------------------\u001b[0m",
      "\u001b[0;31mNameError\u001b[0m                                 Traceback (most recent call last)",
      "Cell \u001b[0;32mIn[15], line 1\u001b[0m\n\u001b[0;32m----> 1\u001b[0m \u001b[43mcomparer\u001b[49m\u001b[38;5;241m.\u001b[39mfind_common_valley_indices()  \u001b[38;5;66;03m# 共通の谷点のインデックスを取得\u001b[39;00m\n\u001b[1;32m      2\u001b[0m df \u001b[38;5;241m=\u001b[39m comparer\u001b[38;5;241m.\u001b[39mresult()\n\u001b[1;32m      3\u001b[0m target_df \u001b[38;5;241m=\u001b[39m df\u001b[38;5;241m.\u001b[39mquery(\u001b[38;5;124m\"\u001b[39m\u001b[38;5;124mindex == 0\u001b[39m\u001b[38;5;124m\"\u001b[39m)\n",
      "\u001b[0;31mNameError\u001b[0m: name 'comparer' is not defined"
     ]
    }
   ],
   "source": [
    "comparer.find_common_valley_indices()  # 共通の谷点のインデックスを取得\n",
    "df = comparer.result()\n",
    "target_df = df.query(\"index == 0\")\n",
    "library_df = df.query(\"index != 0\")\n",
    "library_df2 = library_df.copy()"
   ]
  },
  {
   "cell_type": "markdown",
   "metadata": {},
   "source": [
    "* いじってみて↓"
   ]
  },
  {
   "cell_type": "code",
   "execution_count": 16,
   "metadata": {},
   "outputs": [
    {
     "ename": "NameError",
     "evalue": "name 'library_df2' is not defined",
     "output_type": "error",
     "traceback": [
      "\u001b[0;31m---------------------------------------------------------------------------\u001b[0m",
      "\u001b[0;31mNameError\u001b[0m                                 Traceback (most recent call last)",
      "Cell \u001b[0;32mIn[16], line 4\u001b[0m\n\u001b[1;32m      1\u001b[0m \u001b[38;5;124;03m''' フィルター\u001b[39;00m\n\u001b[1;32m      2\u001b[0m \u001b[38;5;124;03m        以下、フィルターをかけたいコードを実行する。（好きなように）\u001b[39;00m\n\u001b[1;32m      3\u001b[0m \u001b[38;5;124;03m'''\u001b[39;00m\n\u001b[0;32m----> 4\u001b[0m library_df2 \u001b[38;5;241m=\u001b[39m \u001b[43mlibrary_df2\u001b[49m[library_df2[\u001b[38;5;124m'\u001b[39m\u001b[38;5;124mBand\u001b[39m\u001b[38;5;124m'\u001b[39m] \u001b[38;5;241m>\u001b[39m \u001b[38;5;241m50\u001b[39m]  \u001b[38;5;66;03m# 一致バンド数が５０以上\u001b[39;00m\n\u001b[1;32m      6\u001b[0m \u001b[38;5;124;03m''' ソート\u001b[39;00m\n\u001b[1;32m      7\u001b[0m \u001b[38;5;124;03m        以下のいずれかを実行する。（実行行だけコメント解除する）\u001b[39;00m\n\u001b[1;32m      8\u001b[0m \u001b[38;5;124;03m            類似度、一致バンド数\u001b[39;00m\n\u001b[0;32m   (...)\u001b[0m\n\u001b[1;32m     11\u001b[0m \u001b[38;5;124;03m            ascending   >> True(降順), False(昇順)\u001b[39;00m\n\u001b[1;32m     12\u001b[0m \u001b[38;5;124;03m'''\u001b[39;00m\n\u001b[1;32m     13\u001b[0m library_df2 \u001b[38;5;241m=\u001b[39m library_df2\u001b[38;5;241m.\u001b[39msort_values(by\u001b[38;5;241m=\u001b[39msim_type, ascending\u001b[38;5;241m=\u001b[39m\u001b[38;5;28;01mFalse\u001b[39;00m)  \u001b[38;5;66;03m# 類似度\u001b[39;00m\n",
      "\u001b[0;31mNameError\u001b[0m: name 'library_df2' is not defined"
     ]
    }
   ],
   "source": [
    "''' フィルター\n",
    "        以下、フィルターをかけたいコードを実行する。（好きなように）\n",
    "'''\n",
    "library_df2 = library_df2[library_df2['Band'] > 50]  # 一致バンド数が５０以上\n",
    "\n",
    "''' ソート\n",
    "        以下のいずれかを実行する。（実行行だけコメント解除する）\n",
    "            類似度、一致バンド数\n",
    "        引数説明\n",
    "            by          >> データフレームの列名\n",
    "            ascending   >> True(降順), False(昇順)\n",
    "'''\n",
    "library_df2 = library_df2.sort_values(by=sim_type, ascending=False)  # 類似度\n",
    "# library_df2 = library_df2.sort_values(by=\"Band\", ascending=False)  # 一致バンド数"
   ]
  },
  {
   "cell_type": "code",
   "execution_count": 20,
   "metadata": {},
   "outputs": [],
   "source": [
    "library_df2 = pd.concat([target_df, library_df2])  # 対象スペクトルとライブラリスペクトルのデータフレーム結合"
   ]
  },
  {
   "cell_type": "markdown",
   "metadata": {},
   "source": [
    "#### プロット\n",
    "* いじってみて↓"
   ]
  },
  {
   "cell_type": "code",
   "execution_count": 7,
   "metadata": {},
   "outputs": [
    {
     "ename": "NameError",
     "evalue": "name 'comparer' is not defined",
     "output_type": "error",
     "traceback": [
      "\u001b[0;31m---------------------------------------------------------------------------\u001b[0m",
      "\u001b[0;31mNameError\u001b[0m                                 Traceback (most recent call last)",
      "Cell \u001b[0;32mIn[7], line 13\u001b[0m\n\u001b[1;32m      4\u001b[0m index_list \u001b[38;5;241m=\u001b[39m [\u001b[38;5;241m0\u001b[39m]\n\u001b[1;32m      6\u001b[0m \u001b[38;5;124;03m''' 指定されたインデックスをプロット\u001b[39;00m\n\u001b[1;32m      7\u001b[0m \u001b[38;5;124;03m        引数説明\u001b[39;00m\n\u001b[1;32m      8\u001b[0m \u001b[38;5;124;03m            avg_size    : 移動平均を取る値\u001b[39;00m\n\u001b[0;32m   (...)\u001b[0m\n\u001b[1;32m     11\u001b[0m \n\u001b[1;32m     12\u001b[0m \u001b[38;5;124;03m'''\u001b[39;00m\n\u001b[0;32m---> 13\u001b[0m \u001b[43mcomparer\u001b[49m\u001b[38;5;241m.\u001b[39mplot(library_df2, index_list, \u001b[38;5;124m'\u001b[39m\u001b[38;5;124mraw\u001b[39m\u001b[38;5;124m'\u001b[39m, avg_size\u001b[38;5;241m=\u001b[39m\u001b[38;5;241m3\u001b[39m, find\u001b[38;5;241m=\u001b[39m\u001b[38;5;124m'\u001b[39m\u001b[38;5;124mvalley\u001b[39m\u001b[38;5;124m'\u001b[39m, prominence\u001b[38;5;241m=\u001b[39m\u001b[38;5;241m0.01\u001b[39m)\n\u001b[1;32m     15\u001b[0m \u001b[38;5;124;03m''' 指定した上位の数分プロット\u001b[39;00m\n\u001b[1;32m     16\u001b[0m \u001b[38;5;124;03m        以下のいずれかを実行する。（実行行だけコメント解除する）\u001b[39;00m\n\u001b[1;32m     17\u001b[0m \u001b[38;5;124;03m            nlargest, nsmallest\u001b[39;00m\n\u001b[0;32m   (...)\u001b[0m\n\u001b[1;32m     20\u001b[0m \u001b[38;5;124;03m            nsmallest   >> 小さい方から\u001b[39;00m\n\u001b[1;32m     21\u001b[0m \u001b[38;5;124;03m'''\u001b[39;00m\n\u001b[1;32m     22\u001b[0m index_list \u001b[38;5;241m=\u001b[39m library_df2\u001b[38;5;241m.\u001b[39mnlargest(\u001b[38;5;241m10\u001b[39m, sim_type)\u001b[38;5;241m.\u001b[39mindex\n",
      "\u001b[0;31mNameError\u001b[0m: name 'comparer' is not defined"
     ]
    }
   ],
   "source": [
    "''' 指定したインデックスをプロット\n",
    "        index_list: 指定したインデックスのスペクトルがプロットされる\n",
    "'''\n",
    "index_list = [0]\n",
    "\n",
    "''' 指定されたインデックスをプロット\n",
    "        引数説明\n",
    "            avg_size    : 移動平均を取る値\n",
    "            find        : valley(谷点を表示), None(谷点を表示しない)\n",
    "            prominence  : 谷点の判断基準の値\n",
    "\n",
    "'''\n",
    "comparer.plot(library_df2, index_list, 'raw', avg_size=3, find='valley', prominence=0.01)\n",
    "\n",
    "''' 指定した上位の数分プロット\n",
    "        以下のいずれかを実行する。（実行行だけコメント解除する）\n",
    "            nlargest, nsmallest\n",
    "        各関数の説明\n",
    "            nlargest    >> 大きい方から\n",
    "            nsmallest   >> 小さい方から\n",
    "'''\n",
    "nlargest\n",
    "index_list = library_df2.nlargest(10, sim_type).index\n",
    "# index_list = library_df2.nsmallest(10, sim_type).index\n",
    "\n",
    "comparer.plot(library_df2, index_list, 'raw', find='valley', prominence=0.01)"
   ]
  },
  {
   "cell_type": "code",
   "execution_count": null,
   "metadata": {},
   "outputs": [],
   "source": []
  }
 ],
 "metadata": {
  "kernelspec": {
   "display_name": "Python 3 (ipykernel)",
   "language": "python",
   "name": "python3"
  },
  "language_info": {
   "codemirror_mode": {
    "name": "ipython",
    "version": 3
   },
   "file_extension": ".py",
   "mimetype": "text/x-python",
   "name": "python",
   "nbconvert_exporter": "python",
   "pygments_lexer": "ipython3",
   "version": "3.10.3"
  }
 },
 "nbformat": 4,
 "nbformat_minor": 4
}
