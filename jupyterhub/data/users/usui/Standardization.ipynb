{
 "cells": [
  {
   "cell_type": "code",
   "execution_count": 4,
   "id": "fa752dcd-1a5c-4509-8f36-a83263041848",
   "metadata": {},
   "outputs": [
    {
     "name": "stdout",
     "output_type": "stream",
     "text": [
      "[[6.78, 0.000939131205087, 6.78, 0.00101472294773, 7.93, 0.00186478049727, 8.56, 0.00210022975807, 9.35, 0.00228210483328, 10.21, 0.00255863327766, 11.04, 0.00274633988738, 11.79, 0.00291042757453, 12.57, 0.00286096794298, 14.88, 0.000534309692739]]\n",
      "[[6.78, 0.0007548972644144669, 6.78, 0.0007693268707953393, 7.93, 0.0014614846440963447, 8.56, 0.0016514315211679786, 9.35, 0.001893698936328292, 10.21, 0.002120445715263486, 11.04, 0.0023133214563131332, 11.79, 0.0024888792540878057, 12.57, 0.002476960653439164, 14.88, 0.0005370762301026843]]\n",
      "\n",
      "\n",
      "[[6.78000000e+00 9.39131205e-04 6.78000000e+00 1.01472295e-03\n",
      "  7.93000000e+00 1.86478050e-03 8.56000000e+00 2.10022976e-03\n",
      "  9.35000000e+00 2.28210483e-03 1.02100000e+01 2.55863328e-03\n",
      "  1.10400000e+01 2.74633989e-03 1.17900000e+01 2.91042757e-03\n",
      "  1.25700000e+01 2.86096794e-03 1.48800000e+01 5.34309693e-04]]\n",
      "[[6.78000000e+00 7.54897264e-04 6.78000000e+00 7.69326871e-04\n",
      "  7.93000000e+00 1.46148464e-03 8.56000000e+00 1.65143152e-03\n",
      "  9.35000000e+00 1.89369894e-03 1.02100000e+01 2.12044572e-03\n",
      "  1.10400000e+01 2.31332146e-03 1.17900000e+01 2.48887925e-03\n",
      "  1.25700000e+01 2.47696065e-03 1.48800000e+01 5.37076230e-04]]\n",
      "\n",
      "\n",
      "10\n",
      "[[6.78000000e+00 9.39131205e-04]\n",
      " [6.78000000e+00 1.01472295e-03]\n",
      " [7.93000000e+00 1.86478050e-03]\n",
      " [8.56000000e+00 2.10022976e-03]\n",
      " [9.35000000e+00 2.28210483e-03]\n",
      " [1.02100000e+01 2.55863328e-03]\n",
      " [1.10400000e+01 2.74633989e-03]\n",
      " [1.17900000e+01 2.91042757e-03]\n",
      " [1.25700000e+01 2.86096794e-03]\n",
      " [1.48800000e+01 5.34309693e-04]]\n",
      "[[6.78000000e+00 7.54897264e-04]\n",
      " [6.78000000e+00 7.69326871e-04]\n",
      " [7.93000000e+00 1.46148464e-03]\n",
      " [8.56000000e+00 1.65143152e-03]\n",
      " [9.35000000e+00 1.89369894e-03]\n",
      " [1.02100000e+01 2.12044572e-03]\n",
      " [1.10400000e+01 2.31332146e-03]\n",
      " [1.17900000e+01 2.48887925e-03]\n",
      " [1.25700000e+01 2.47696065e-03]\n",
      " [1.48800000e+01 5.37076230e-04]]\n",
      "\n",
      "\n",
      "[ 6.78  6.78  7.93  8.56  9.35 10.21 11.04 11.79 12.57 14.88]\n",
      "[0.00093913 0.00101472 0.00186478 0.00210023 0.0022821  0.00255863\n",
      " 0.00274634 0.00291043 0.00286097 0.00053431]\n",
      "[0.0007549  0.00076933 0.00146148 0.00165143 0.0018937  0.00212045\n",
      " 0.00231332 0.00248888 0.00247696 0.00053708]\n",
      "\n",
      "\n",
      "[ 6.78  6.78  7.93  8.56  9.35 10.21 11.04 11.79 12.57 14.88]\n",
      "[0.80382513 0.75816446 0.78373012 0.78630993 0.82980366 0.82874155\n",
      " 0.8423289  0.85515932 0.86577714 1.00517778]\n",
      "\n",
      "\n"
     ]
    },
    {
     "data": {
      "text/plain": [
       "Text(0.5, 1.0, 'Spectral')"
      ]
     },
     "execution_count": 4,
     "metadata": {},
     "output_type": "execute_result"
    },
    {
     "data": {
      "image/png": "[encoded data removed]",
      "text/plain": [
       "<Figure size 432x288 with 1 Axes>"
      ]
     },
     "metadata": {
      "needs_background": "light"
     },
     "output_type": "display_data"
    }
   ],
   "source": [
    "#規格化, Standardization\n",
    "#成功, THEMIS\n",
    "import numpy as np\n",
    "import pandas as pd\n",
    "import matplotlib.pyplot as plt\n",
    "import csv\n",
    "with open(\"I52359002SNU_E_-73.31904_N_30.72080.csv\", encoding='utf-8-sig') as f:\n",
    "    reader = csv.reader(f, quoting=csv.QUOTE_NONNUMERIC)#文字列をfloat型に変換\n",
    "    l_f100 = [row for row in reader]#BASE\n",
    "with open(\"I52359002SNU_E_-73.49334_N_30.73279.csv\", encoding='utf-8-sig') as f:\n",
    "    reader = csv.reader(f, quoting=csv.QUOTE_NONNUMERIC)#文字列をfloat型に変換\n",
    "    l_f200 = [row for row in reader]\n",
    "print(l_f100)\n",
    "print(l_f200)\n",
    "print(\"\\n\")\n",
    "\n",
    "l_f120 = np.array(l_f100)#list型をNumPy配列に変換\n",
    "l_f220 = np.array(l_f200)\n",
    "print(l_f120)\n",
    "print(l_f220)\n",
    "print(\"\\n\")\n",
    "\n",
    "n = int(l_f120.size/2)#要素数の半分を取得\n",
    "print(n)\n",
    "l_f130 = l_f120.reshape([n,2])#1行20列配列を10行2列配列に変換\n",
    "l_f230 = l_f220.reshape([n,2])\n",
    "print(l_f130)\n",
    "print(l_f230)\n",
    "print(\"\\n\")\n",
    "\n",
    "l_f130_0 = l_f130[:,0]#1列目の全ての行を抽出\n",
    "l_f130_1 = l_f130[:,1]#2列目の全ての行を抽出\n",
    "l_f230_1 = l_f230[:,1]\n",
    "print(l_f130_0)\n",
    "print(l_f130_1)\n",
    "print(l_f230_1)\n",
    "print(\"\\n\")\n",
    "\n",
    "division = l_f230_1 / l_f130_1\n",
    "print(l_f130_0)\n",
    "print(division)\n",
    "print(\"\\n\")\n",
    "\n",
    "# #以下csvファイルにするために逆から同じ手順\n",
    "# st_div = np.stack([l_f130_0, division], 1)\n",
    "# print(st_div)\n",
    "# print(\"\\n\")\n",
    "\n",
    "# st_div2 = st_div.reshape([1,20])\n",
    "# print(st_div2)\n",
    "# print(\"\\n\")\n",
    "\n",
    "# st_div3 = st_div2.tolist()\n",
    "# print(st_div3)\n",
    "\n",
    "# with open('sample.csv', 'w') as f:#csvファイル作成\n",
    "#   writer = csv.writer(f)\n",
    "#   writer.writerow(st_div3)\n",
    "\n",
    "\n",
    "plt.plot(l_f130_0, division, marker=\".\")\n",
    "plt.xlabel('Wavelength [nm]')\n",
    "plt.ylabel('Reflentance')\n",
    "plt.title('Spectral')"
   ]
  },
  {
   "cell_type": "code",
   "execution_count": null,
   "id": "d737e56d-ebed-438a-9e29-8a6c0e8c6702",
   "metadata": {},
   "outputs": [],
   "source": []
  }
 ],
 "metadata": {
  "kernelspec": {
   "display_name": "Python 3 (ipykernel)",
   "language": "python",
   "name": "python3"
  },
  "language_info": {
   "codemirror_mode": {
    "name": "ipython",
    "version": 3
   },
   "file_extension": ".py",
   "mimetype": "text/x-python",
   "name": "python",
   "nbconvert_exporter": "python",
   "pygments_lexer": "ipython3",
   "version": "3.9.7"
  }
 },
 "nbformat": 4,
 "nbformat_minor": 5
}
