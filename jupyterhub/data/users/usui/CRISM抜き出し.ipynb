{
 "cells": [
  {
   "cell_type": "code",
   "execution_count": 5,
   "id": "b1d83612",
   "metadata": {},
   "outputs": [
    {
     "ename": "ModuleNotFoundError",
     "evalue": "No module named 'osgeo'",
     "output_type": "error",
     "traceback": [
      "\u001b[0;31m---------------------------------------------------------------------------\u001b[0m",
      "\u001b[0;31mModuleNotFoundError\u001b[0m                       Traceback (most recent call last)",
      "\u001b[0;32m<ipython-input-5-61e0eefce4de>\u001b[0m in \u001b[0;36m<module>\u001b[0;34m\u001b[0m\n\u001b[0;32m----> 1\u001b[0;31m \u001b[0;32mfrom\u001b[0m \u001b[0mosgeo\u001b[0m \u001b[0;32mimport\u001b[0m \u001b[0mgdal\u001b[0m\u001b[0;34m\u001b[0m\u001b[0;34m\u001b[0m\u001b[0m\n\u001b[0m",
      "\u001b[0;31mModuleNotFoundError\u001b[0m: No module named 'osgeo'"
     ]
    }
   ],
   "source": [
    "from osgeo import gdal"
   ]
  },
  {
   "cell_type": "code",
   "execution_count": 4,
   "id": "46bdbce9",
   "metadata": {},
   "outputs": [
    {
     "ename": "IndentationError",
     "evalue": "unexpected indent (<ipython-input-4-874fdd222e6b>, line 2)",
     "output_type": "error",
     "traceback": [
      "\u001b[0;36m  File \u001b[0;32m\"<ipython-input-4-874fdd222e6b>\"\u001b[0;36m, line \u001b[0;32m2\u001b[0m\n\u001b[0;31m    bandnumber_range = list(range(cube_data.RasterCount))\u001b[0m\n\u001b[0m    ^\u001b[0m\n\u001b[0;31mIndentationError\u001b[0m\u001b[0;31m:\u001b[0m unexpected indent\n"
     ]
    }
   ],
   "source": [
    "cube_data = gdal.Open(\"frt00002f46_07_de168l_ddr1.cub\", gdal.GA_ReadOnly) #cub ファイル名\n",
    "bandnumber_range = list(range(cube_data.RasterCount))\n",
    "NDV = cube_data.GetRasterBand(1).GetNoDataValue()\n",
    "ref_arr = []\n",
    "no_data_ref = 1\n",
    "first = 0\n",
    "\n",
    "if cube_data.GetRasterBand(30).ReadAsArray()[0][0] == NDV: # X Y\n",
    "    no_data_ref = 1\n",
    "else:\n",
    "    no_data_ref = 0\n",
    "    for bandnumber_i in bandnumber_range:\n",
    "        if first == 0:\n",
    "            first = 1\n",
    "            continue\n",
    "        ref = cube_data.GetRasterBand(bandnumber_i+1).ReadAsArray()[0][0]\n",
    "        if ref == NDV:\n",
    "            ref_arr.append(-1)\n",
    "        else:\n",
    "            ref_arr.append(ref)\n",
    "        \n",
    "#　反射率の格納\n",
    "if no_data_ref != 1:\n",
    "    ref_csv=\",\".join(list(map(str,ref_arr)))\n",
    "else:\n",
    "    ref_csv = -1"
   ]
  }
 ],
 "metadata": {
  "kernelspec": {
   "display_name": "Python 3",
   "language": "python",
   "name": "python3"
  },
  "language_info": {
   "codemirror_mode": {
    "name": "ipython",
    "version": 3
   },
   "file_extension": ".py",
   "mimetype": "text/x-python",
   "name": "python",
   "nbconvert_exporter": "python",
   "pygments_lexer": "ipython3",
   "version": "3.8.8"
  }
 },
 "nbformat": 4,
 "nbformat_minor": 5
}
