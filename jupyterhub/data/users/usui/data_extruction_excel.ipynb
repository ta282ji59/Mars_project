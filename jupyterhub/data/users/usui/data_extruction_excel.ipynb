{
 "cells": [
  {
   "cell_type": "markdown",
   "metadata": {},
   "source": [
    "# 鉱物ライブラリの作成"
   ]
  },
  {
   "cell_type": "markdown",
   "metadata": {},
   "source": [
    "---\n",
    "コマンドプロンプトは、’！’を先頭につけると実行可能"
   ]
  },
  {
   "cell_type": "code",
   "execution_count": 2,
   "metadata": {},
   "outputs": [
    {
     "name": "stdout",
     "output_type": "stream",
     "text": [
      "Defaulting to user installation because normal site-packages is not writeable\n",
      "Requirement already satisfied: pandas in /Users/usui/Library/Python/3.9/lib/python/site-packages (1.5.2)\n",
      "Requirement already satisfied: pytz>=2020.1 in /Users/usui/Library/Python/3.9/lib/python/site-packages (from pandas) (2022.6)\n",
      "Requirement already satisfied: numpy>=1.20.3 in /Users/usui/Library/Python/3.9/lib/python/site-packages (from pandas) (1.23.4)\n",
      "Requirement already satisfied: python-dateutil>=2.8.1 in /Users/usui/Library/Python/3.9/lib/python/site-packages (from pandas) (2.8.2)\n",
      "Requirement already satisfied: six>=1.5 in /Library/Developer/CommandLineTools/Library/Frameworks/Python3.framework/Versions/3.9/lib/python3.9/site-packages (from python-dateutil>=2.8.1->pandas) (1.15.0)\n",
      "\n",
      "\u001b[1m[\u001b[0m\u001b[34;49mnotice\u001b[0m\u001b[1;39;49m]\u001b[0m\u001b[39;49m A new release of pip available: \u001b[0m\u001b[31;49m22.3.1\u001b[0m\u001b[39;49m -> \u001b[0m\u001b[32;49m23.3\u001b[0m\n",
      "\u001b[1m[\u001b[0m\u001b[34;49mnotice\u001b[0m\u001b[1;39;49m]\u001b[0m\u001b[39;49m To update, run: \u001b[0m\u001b[32;49m/Library/Developer/CommandLineTools/usr/bin/python3 -m pip install --upgrade pip\u001b[0m\n",
      "Defaulting to user installation because normal site-packages is not writeable\n",
      "Collecting xlrd\n",
      "  Downloading xlrd-2.0.1-py2.py3-none-any.whl (96 kB)\n",
      "\u001b[2K     \u001b[90m━━━━━━━━━━━━━━━━━━━━━━━━━━━━━━━━━━━━━━━━\u001b[0m \u001b[32m96.5/96.5 kB\u001b[0m \u001b[31m2.8 MB/s\u001b[0m eta \u001b[36m0:00:00\u001b[0m\n",
      "\u001b[?25hInstalling collected packages: xlrd\n",
      "Successfully installed xlrd-2.0.1\n",
      "\n",
      "\u001b[1m[\u001b[0m\u001b[34;49mnotice\u001b[0m\u001b[1;39;49m]\u001b[0m\u001b[39;49m A new release of pip available: \u001b[0m\u001b[31;49m22.3.1\u001b[0m\u001b[39;49m -> \u001b[0m\u001b[32;49m23.3\u001b[0m\n",
      "\u001b[1m[\u001b[0m\u001b[34;49mnotice\u001b[0m\u001b[1;39;49m]\u001b[0m\u001b[39;49m To update, run: \u001b[0m\u001b[32;49m/Library/Developer/CommandLineTools/usr/bin/python3 -m pip install --upgrade pip\u001b[0m\n",
      "Defaulting to user installation because normal site-packages is not writeable\n",
      "Collecting openpyxl\n",
      "  Downloading openpyxl-3.1.2-py2.py3-none-any.whl (249 kB)\n",
      "\u001b[2K     \u001b[90m━━━━━━━━━━━━━━━━━━━━━━━━━━━━━━━━━━━━━━━\u001b[0m \u001b[32m250.0/250.0 kB\u001b[0m \u001b[31m4.4 MB/s\u001b[0m eta \u001b[36m0:00:00\u001b[0ma \u001b[36m0:00:01\u001b[0m\n",
      "\u001b[?25hCollecting et-xmlfile\n",
      "  Downloading et_xmlfile-1.1.0-py3-none-any.whl (4.7 kB)\n",
      "Installing collected packages: et-xmlfile, openpyxl\n",
      "Successfully installed et-xmlfile-1.1.0 openpyxl-3.1.2\n",
      "\n",
      "\u001b[1m[\u001b[0m\u001b[34;49mnotice\u001b[0m\u001b[1;39;49m]\u001b[0m\u001b[39;49m A new release of pip available: \u001b[0m\u001b[31;49m22.3.1\u001b[0m\u001b[39;49m -> \u001b[0m\u001b[32;49m23.3\u001b[0m\n",
      "\u001b[1m[\u001b[0m\u001b[34;49mnotice\u001b[0m\u001b[1;39;49m]\u001b[0m\u001b[39;49m To update, run: \u001b[0m\u001b[32;49m/Library/Developer/CommandLineTools/usr/bin/python3 -m pip install --upgrade pip\u001b[0m\n"
     ]
    }
   ],
   "source": [
    "!pip3 install pandas\n",
    "!pip3 install xlrd\n",
    "!pip3 install openpyxl"
   ]
  },
  {
   "cell_type": "markdown",
   "metadata": {},
   "source": [
    "---\n",
    "キーワードを含む行を抽出"
   ]
  },
  {
   "cell_type": "code",
   "execution_count": null,
   "metadata": {},
   "outputs": [],
   "source": [
    "import pandas as pd\n",
    "\n",
    "# Excelを読み込み\n",
    "df = pd.read_excel('./RelabDatabase2022Dec31/catalogues/Sample_Catalogue.xls')\n",
    "\n",
    "# キーワードを指定\n",
    "keyword = 'Mineral'\n",
    "\n",
    "# キーワードを含む行を抽出\n",
    "extract_df = df[df['GeneralType1'].str.contains(keyword, na=False)]\n",
    "\n",
    "# 結果をExcelファイルとして出力\n",
    "extract_df.to_excel('Sample_Catalogue_Mineral.xlsx', index=False)"
   ]
  },
  {
   "cell_type": "markdown",
   "metadata": {},
   "source": [
    "---\n",
    "リストにあるキーワードを含む行を抽出"
   ]
  },
  {
   "cell_type": "code",
   "execution_count": 29,
   "metadata": {},
   "outputs": [],
   "source": [
    "import pandas as pd\n",
    "\n",
    "# Excelを読み込み\n",
    "df1 = pd.read_excel('Sample_Catalogue_Mineral.xlsx')\n",
    "\n",
    "# データフレームをリスト化\n",
    "list_df1 = df1['SampleID'].to_list()\n",
    "\n",
    "# Excelを読み込み\n",
    "df2 = pd.read_excel('./RelabDatabase2022Dec31/catalogues/Spectra_Catalogue.xls')\n",
    "\n",
    "# リストにあるキーワードを含む行を抽出\n",
    "extract_df2 = df2.query('SampleID in @list_df1')\n",
    "\n",
    "# 結果をExcelファイルとして出力\n",
    "extract_df2.to_excel('Spectra_Catalogue_Mineral.xlsx', index=False)"
   ]
  },
  {
   "cell_type": "markdown",
   "metadata": {},
   "source": [
    "---\n",
    "キーワードが完全一致する行を抽出"
   ]
  },
  {
   "cell_type": "code",
   "execution_count": 31,
   "metadata": {},
   "outputs": [],
   "source": [
    "import pandas as pd\n",
    "\n",
    "# Excelを読み込み\n",
    "df = pd.read_excel('Spectra_Catalogue_Mineral.xlsx')\n",
    "\n",
    "# キーワードが完全一致する行を抽出\n",
    "extract_df = df[df['SpecCode'] == 'BD-VNIR']\n",
    "\n",
    "# 結果をExcelファイルとして出力\n",
    "extract_df.to_excel('Spectra_Catalogue_Mineral_BD-VNIR.xlsx', index=False)"
   ]
  },
  {
   "cell_type": "markdown",
   "metadata": {},
   "source": [
    "---\n",
    "ascファイルからバンド部分を抽出"
   ]
  },
  {
   "cell_type": "code",
   "execution_count": 114,
   "metadata": {},
   "outputs": [],
   "source": [
    "import numpy as np\n",
    "\n",
    "# float型を小数点表示で固定\n",
    "np.set_printoptions(suppress=True)\n",
    "\n",
    "# ascを読み込み\n",
    "with open('./RelabDatabase2022Dec31/data/a1s/aa/c1aa01.asc') as f:\n",
    "    # 行区切りで2次元配列化\n",
    "    l = [item.split() for item in f.readlines()]\n",
    "\n",
    "    # 1行目にバンド数\n",
    "    bands = int(l[0][0])\n",
    "\n",
    "    # バンド部分を抽出、float型に変更\n",
    "    data_str = np.array(l[1:bands+1])\n",
    "    data_float = np.asfarray(data_str, dtype=float)\n",
    "\n",
    "    # 列分解、波長の単位をμmに変更\n",
    "    wav = data_float[:, 0] / 1000\n",
    "    ref = data_float[:, 1]\n",
    "\n",
    "    # リスト結合、1行の2次元配列化（データを横持ちにするため）\n",
    "    data = np.r_[wav, ref]\n",
    "    data = np.append(bands, data)\n",
    "    data = data.reshape(1, len(data))\n",
    "\n",
    "    # 結果をCSVファイルとして出力\n",
    "    np.savetxt('test_from_asc.csv', data, delimiter=',', fmt='%.5f')\n"
   ]
  },
  {
   "cell_type": "markdown",
   "metadata": {},
   "source": [
    "---\n",
    "各ascファイルからバンド部分を抽出、収集"
   ]
  },
  {
   "cell_type": "code",
   "execution_count": 3,
   "metadata": {},
   "outputs": [],
   "source": [
    "import pandas as pd\n",
    "import numpy as np\n",
    "import csv\n",
    "\n",
    "# float型を小数点表示で固定\n",
    "np.set_printoptions(suppress=True)\n",
    "\n",
    "# Excelを読み込み\n",
    "df = pd.read_excel('Spectra_Catalogue_Mineral_BD-VNIR.xlsx')\n",
    "\n",
    "# データフレームをリスト化、小文字化\n",
    "list_sample = df['SampleID'].to_list()\n",
    "list_spectrum = df['SpectrumID'].to_list()\n",
    "list_sample, list_spectrum = [i.lower() for i in list_sample], [j.lower() for j in list_spectrum]\n",
    "\n",
    "count = 0\n",
    "\n",
    "for sample, spectrum in zip(list_sample, list_spectrum):\n",
    "    # 変数の文字列を分解、リスト化\n",
    "    l_sample = sample.split('-')\n",
    "\n",
    "    # ascファイル名を生成\n",
    "    asc_file = './RelabDatabase2022Dec31/data/{0}/{1}/{2}.asc'.format(l_sample[1], l_sample[0], spectrum)\n",
    "\n",
    "    # ascを読み込み\n",
    "    with open(asc_file) as f:\n",
    "        # 行区切りでリスト型の2次元配列化\n",
    "        l = [item.split() for item in f.readlines()]\n",
    "\n",
    "        # 1行目のバンド数抽出\n",
    "        bands = int(l[0][0])\n",
    "\n",
    "        # ascファイルのwavとrefを抽出、リスト型の2次元配列（行数：バンド数、列数：wavとrefの2列）\n",
    "        l = [row[0:2] for row in l[1:bands+1]]\n",
    "       \n",
    "        # ndarrayに変換（float型）\n",
    "        data_float = np.array(l, dtype=float)\n",
    "\n",
    "        # 列分解、波長の単位をμmに変更\n",
    "        wav = data_float[:, 0] / 1000\n",
    "        ref = data_float[:, 1]\n",
    "\n",
    "        # ndarray結合（データ構造は横持ち）\n",
    "        data = np.r_[wav, ref]\n",
    "\n",
    "        # 他の単体データの追加\n",
    "        data = np.append(bands, data)\n",
    "        data = np.append(spectrum, data)\n",
    "        data = np.append(sample, data)\n",
    "\n",
    "        # 1行のリスト型の2次元配列化\n",
    "        data = data.reshape(1, len(data)).tolist()\n",
    "\n",
    "        if count == 0:\n",
    "            data2 = data\n",
    "            count = 1\n",
    "        else:\n",
    "            # 各ファイルデータを縦持ちで結合\n",
    "            data2.extend(data)\n",
    "\n",
    "# 結果をCSVファイルとして出力\n",
    "with open('./RelabDatabase2022Dec31/Library_Mineral_BD-VNIR.csv', 'w') as f:\n",
    "    w = csv.writer(f, lineterminator='\\n')\n",
    "    w.writerows(data2)"
   ]
  }
 ],
 "metadata": {
  "kernelspec": {
   "display_name": "Python 3 (ipykernel)",
   "language": "python",
   "name": "python3"
  },
  "language_info": {
   "codemirror_mode": {
    "name": "ipython",
    "version": 3
   },
   "file_extension": ".py",
   "mimetype": "text/x-python",
   "name": "python",
   "nbconvert_exporter": "python",
   "pygments_lexer": "ipython3",
   "version": "3.9.6"
  }
 },
 "nbformat": 4,
 "nbformat_minor": 4
}
