{
 "cells": [
  {
   "cell_type": "markdown",
   "metadata": {},
   "source": [
    "* ライブラリ比較関数というスペクトルデータを解析する関数になります。\n",
    "    - 鉱物スペクトルデータを収集したライブラリファイルと調査したい対象スペクトルデータ１つを比較します。\n",
    "    - ライブラリファイルには、約6000のスペクトルデータがあります。\n",
    "    - それぞれ比較し、類似度を算出することで、類似する鉱物を同定します。\n",
    "* 「いじってみて」と記述されている直下のセルをいじってみてください。\n",
    "* 実行は、Shift＋Enter です。\n",
    "* いじってみた後に以下の項目それぞれの感想（評価）をください。なんでも大丈夫です。お願いします。\n",
    "    - 良いところ\n",
    "    - 悪いところ（良くないところ）\n",
    "    - もう少しなところ（あれば良いと思うところ）\n",
    "    - 他のアイデア（あればでいいです）"
   ]
  },
  {
   "cell_type": "markdown",
   "metadata": {},
   "source": [
    "## ライブラリ比較関数"
   ]
  },
  {
   "cell_type": "code",
   "execution_count": 11,
   "metadata": {},
   "outputs": [],
   "source": [
    "import pandas as pd\n",
    "import importlib\n",
    "import libcomp as lc\n",
    "importlib.reload(lc)\n",
    "\n",
    "# ライブラリファイル指定\n",
    "library_file = 'RelabDatabase2022Dec31_mini/Library_Mineral_BD-VNIR.csv'\n",
    "# カタログファイル指定\n",
    "sample_catalogue_file = 'RelabDatabase2022Dec31_mini/catalogues/Sample_Catalogue.xlsx'\n",
    "# 対象スペクトルファイル指定\n",
    "target_spectrum_file = './data/frt00003621_07_if166l_E_-97.57339 N_24.96872.csv'"
   ]
  },
  {
   "cell_type": "markdown",
   "metadata": {},
   "source": [
    "* いじってみて↓"
   ]
  },
  {
   "cell_type": "code",
   "execution_count": null,
   "metadata": {},
   "outputs": [],
   "source": [
    "''' 類似度算出に使用する各タイプ指定\n",
    "        以下のいずれかのタイプを選択する。\n",
    "            interp_type :   liner, sp\n",
    "            scaling_type:   norm, st\n",
    "            pcc         :   pcc, cos, edis     \n",
    "        各タイプの説明\n",
    "            interp_type     >> liner(線形補間), sp(スプライン補間)\n",
    "            scaling_type    >> norm(正規化), st(標準化)\n",
    "            pcc             >> pcc(ピアソンの相関係数), cos(コサイン類似度), edis(ユークリッド距離)\n",
    "'''\n",
    "interp_type, scaling_type, sim_type = 'liner', 'st', 'pcc'"
   ]
  },
  {
   "cell_type": "code",
   "execution_count": null,
   "metadata": {},
   "outputs": [],
   "source": [
    "comparer = lc.LibraryComparison(library_file, sample_catalogue_file, target_spectrum_file)  # インスタンス作成"
   ]
  },
  {
   "cell_type": "markdown",
   "metadata": {},
   "source": [
    "### 類似度判定ステップ\n",
    "* いじってみて↓"
   ]
  },
  {
   "cell_type": "code",
   "execution_count": null,
   "metadata": {},
   "outputs": [],
   "source": [
    "''' 対象とする波長範囲（index）を指定\n",
    "        comparer.slice_wav(100, 200)    >> 波長の100〜200を使用する\n",
    "        comparer.slice_wav(100)         >> 波長の100〜を使用する\n",
    "'''\n",
    "# comparer.slice_wav(100, 200)  # 対象とする波長範囲（index）"
   ]
  },
  {
   "cell_type": "code",
   "execution_count": null,
   "metadata": {},
   "outputs": [],
   "source": [
    "comparer.interpolate(interp_type)\n",
    "comparer.scaling(scaling_type)\n",
    "comparer.measure_similarity(sim_type)\n",
    "comparer.result()\n",
    "\n",
    "# result.to_excel('libcomp_result.xlsx', index=False)  # excelファイル作成"
   ]
  },
  {
   "cell_type": "markdown",
   "metadata": {},
   "source": [
    "### プロットステップ"
   ]
  },
  {
   "cell_type": "code",
   "execution_count": 9,
   "metadata": {},
   "outputs": [
    {
     "name": "stderr",
     "output_type": "stream",
     "text": [
      "100%|██████████| 6359/6359 [00:00<00:00, 94955.85 count/s]"
     ]
    },
    {
     "name": "stdout",
     "output_type": "stream",
     "text": [
      ">>> Filtering(common valleys) completed.\n",
      "\n"
     ]
    },
    {
     "name": "stderr",
     "output_type": "stream",
     "text": [
      "\n"
     ]
    }
   ],
   "source": [
    "comparer.find_common_valley_indices()  # 共通の谷点のインデックスを取得\n",
    "df = comparer.result()\n",
    "target_df = df.query(\"index == 0\")\n",
    "library_df = df.query(\"index != 0\")\n",
    "library_df2 = library_df.copy()"
   ]
  },
  {
   "cell_type": "markdown",
   "metadata": {},
   "source": [
    "* いじってみて↓"
   ]
  },
  {
   "cell_type": "code",
   "execution_count": 10,
   "metadata": {},
   "outputs": [],
   "source": [
    "''' フィルター\n",
    "        以下、フィルターをかけたいコードを実行する。（好きなように）\n",
    "'''\n",
    "library_df2 = library_df2[library_df2['Band'] > 50]  # 一致バンド数が５０以上\n",
    "\n",
    "''' ソート\n",
    "        以下のいずれかを実行する。（実行行だけコメント解除する）\n",
    "            類似度、一致バンド数\n",
    "        引数説明\n",
    "            by          >> データフレームの列名\n",
    "            ascending   >> True(降順), False(昇順)\n",
    "'''\n",
    "library_df2 = library_df2.sort_values(by=sim_type, ascending=False)  # 類似度\n",
    "# library_df2 = library_df2.sort_values(by=\"Band\", ascending=False)  # 一致バンド数"
   ]
  },
  {
   "cell_type": "code",
   "execution_count": null,
   "metadata": {},
   "outputs": [],
   "source": [
    "library_df2 = pd.concat([target_df, library_df2])  # 対象スペクトルとライブラリスペクトルのデータフレーム結合"
   ]
  },
  {
   "cell_type": "markdown",
   "metadata": {},
   "source": [
    "#### プロット\n",
    "* いじってみて↓"
   ]
  },
  {
   "cell_type": "code",
   "execution_count": null,
   "metadata": {},
   "outputs": [],
   "source": [
    "''' 指定したインデックスをプロット\n",
    "        index_list: 指定したインデックスのスペクトルがプロットされる\n",
    "'''\n",
    "index_list = [0]\n",
    "\n",
    "''' 指定されたインデックスをプロット\n",
    "        引数説明\n",
    "            avg_size    : 移動平均を取る値\n",
    "            find        : valley(谷点を表示), None(谷点を表示しない)\n",
    "            prominence  : 谷点の判断基準の値\n",
    "\n",
    "'''\n",
    "comparer.plot(library_df2, index_list, 'raw', avg_size=3, find='valley', prominence=0.01)\n",
    "\n",
    "''' 指定した上位の数分プロット\n",
    "        以下のいずれかを実行する。（実行行だけコメント解除する）\n",
    "            nlargest, nsmallest\n",
    "        各関数の説明\n",
    "            nlargest    >> 大きい方から\n",
    "            nsmallest   >> 小さい方から\n",
    "'''\n",
    "index_list = library_df2.nlargest(10, sim_type).index\n",
    "# index_list = library_df2.nsmallest(10, sim_type).index\n",
    "\n",
    "comparer.plot(library_df2, index_list, 'raw', find='valley', prominence=0.01)"
   ]
  }
 ],
 "metadata": {
  "kernelspec": {
   "display_name": "Python 3",
   "language": "python",
   "name": "python3"
  },
  "language_info": {
   "codemirror_mode": {
    "name": "ipython",
    "version": 3
   },
   "file_extension": ".py",
   "mimetype": "text/x-python",
   "name": "python",
   "nbconvert_exporter": "python",
   "pygments_lexer": "ipython3",
   "version": "3.9.6"
  }
 },
 "nbformat": 4,
 "nbformat_minor": 2
}
